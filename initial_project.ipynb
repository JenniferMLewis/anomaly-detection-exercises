{
 "cells": [
  {
   "cell_type": "code",
   "execution_count": 522,
   "metadata": {},
   "outputs": [],
   "source": [
    "import pandas as pd\n",
    "import numpy as np\n",
    "import matplotlib.pyplot as plt\n",
    "import seaborn as sns\n",
    "\n",
    "# loading cleaner data\n",
    "from env import user, password, host\n",
    "import os"
   ]
  },
  {
   "cell_type": "code",
   "execution_count": 523,
   "metadata": {},
   "outputs": [],
   "source": [
    "# # df = pd.read_clipboard()\n",
    "# # df.to_csv(\"anomalous_curriculum.csv\")\n",
    "# df = pd.read_csv(\"anomalous_curriculum.csv\")"
   ]
  },
  {
   "cell_type": "code",
   "execution_count": 524,
   "metadata": {},
   "outputs": [],
   "source": [
    "# df.head()"
   ]
  },
  {
   "cell_type": "code",
   "execution_count": 525,
   "metadata": {},
   "outputs": [],
   "source": [
    "# df.columns"
   ]
  },
  {
   "cell_type": "code",
   "execution_count": 526,
   "metadata": {},
   "outputs": [],
   "source": [
    "# del df['Unnamed: 0']\n",
    "# df = df.rename(columns={\"2018-01-26\" : 'date', \"09:55:03\": \"time\", \"/\":\"file_location\", '1': \"user_id\", \"8\":\"cohort_id\", \"97.105.19.61\":\"ip_address\"})"
   ]
  },
  {
   "cell_type": "code",
   "execution_count": 527,
   "metadata": {},
   "outputs": [],
   "source": [
    "# df.columns"
   ]
  },
  {
   "cell_type": "code",
   "execution_count": 528,
   "metadata": {},
   "outputs": [],
   "source": [
    "# df.info()"
   ]
  },
  {
   "cell_type": "code",
   "execution_count": 529,
   "metadata": {},
   "outputs": [],
   "source": [
    "# df['date_time'] = df.date + \" \" + df.time"
   ]
  },
  {
   "cell_type": "code",
   "execution_count": 530,
   "metadata": {},
   "outputs": [],
   "source": [
    "# df.head()"
   ]
  },
  {
   "cell_type": "code",
   "execution_count": 531,
   "metadata": {},
   "outputs": [],
   "source": [
    "# df['date_time'] = pd.to_datetime(df.date_time)\n",
    "# df.info()"
   ]
  },
  {
   "cell_type": "code",
   "execution_count": 532,
   "metadata": {},
   "outputs": [],
   "source": [
    "# df[df.ip_address == \"22\"]"
   ]
  },
  {
   "cell_type": "code",
   "execution_count": 533,
   "metadata": {},
   "outputs": [],
   "source": [
    "# del df['date']\n",
    "# del df['time']\n",
    "# df.head()"
   ]
  },
  {
   "cell_type": "code",
   "execution_count": 534,
   "metadata": {},
   "outputs": [],
   "source": [
    "# df[df.ip_address == \"22\"]"
   ]
  },
  {
   "cell_type": "code",
   "execution_count": 535,
   "metadata": {},
   "outputs": [],
   "source": [
    "# df[df.file_location == \"java-ii/object-oriented-programming\"]"
   ]
  },
  {
   "cell_type": "code",
   "execution_count": 536,
   "metadata": {},
   "outputs": [],
   "source": [
    "# df = df.set_index(df.date_time)"
   ]
  },
  {
   "cell_type": "code",
   "execution_count": 537,
   "metadata": {},
   "outputs": [],
   "source": [
    "# # Moving the date from 'eight' to the 'ip_address' area.\n",
    "# for r in df[df.ip_address.isnull()].index:\n",
    "#     if len(df.loc[r, 'cohort_id']) > 5:\n",
    "#         df.loc[r, \"ip_address\"] = df.loc[r, \"cohort_id\"]\n",
    "#     else:\n",
    "#         df.loc[r, 'ip_address'] = '0'\n"
   ]
  },
  {
   "cell_type": "code",
   "execution_count": 538,
   "metadata": {},
   "outputs": [],
   "source": [
    "# df[df.ip_address == '0']"
   ]
  },
  {
   "cell_type": "code",
   "execution_count": 539,
   "metadata": {},
   "outputs": [],
   "source": [
    "# df.loc['2018-01-26 16:46:16', \"ip_address\"] = df.loc['2018-01-26 16:46:16', \"eight\"]\n",
    "# df.loc['2018-01-26 16:46:16', \"ip_address\"]"
   ]
  },
  {
   "cell_type": "code",
   "execution_count": 540,
   "metadata": {},
   "outputs": [],
   "source": [
    "# df[df.ip_address.isnull()]"
   ]
  },
  {
   "cell_type": "code",
   "execution_count": 541,
   "metadata": {},
   "outputs": [],
   "source": [
    "# df['cohort_id'] = df.cohort_id.fillna('0')"
   ]
  },
  {
   "cell_type": "code",
   "execution_count": 542,
   "metadata": {},
   "outputs": [],
   "source": [
    "# for r in df[df.file_location == \"/\"].date_time:\n",
    "#     df.loc[r,'file_location'] = \"Root\""
   ]
  },
  {
   "cell_type": "code",
   "execution_count": 543,
   "metadata": {},
   "outputs": [],
   "source": [
    "# df.info()"
   ]
  },
  {
   "cell_type": "code",
   "execution_count": 544,
   "metadata": {},
   "outputs": [],
   "source": [
    "# df.head()\n",
    "# df = df.drop(columns=\"date_time\")"
   ]
  },
  {
   "cell_type": "code",
   "execution_count": 545,
   "metadata": {},
   "outputs": [],
   "source": [
    "# df.head()"
   ]
  },
  {
   "cell_type": "code",
   "execution_count": 546,
   "metadata": {},
   "outputs": [],
   "source": [
    "# for v in df.ip_address:\n",
    "#     if len(v) < 7 and v != '0':\n",
    "#         print(v)"
   ]
  },
  {
   "cell_type": "code",
   "execution_count": 547,
   "metadata": {},
   "outputs": [],
   "source": [
    "# df.ip_address.nunique()"
   ]
  },
  {
   "cell_type": "code",
   "execution_count": 548,
   "metadata": {},
   "outputs": [],
   "source": [
    "# df.head()"
   ]
  },
  {
   "cell_type": "code",
   "execution_count": 549,
   "metadata": {},
   "outputs": [],
   "source": [
    "def get_url(db, user=user, password=password, host=host):\n",
    "    '''\n",
    "    take database name for input,\n",
    "    returns url, using user, password, and host pulled from your env file.\n",
    "    PLEASE save it as a variable, and do NOT just print your credientials to your document.\n",
    "    '''\n",
    "    return f'mysql+pymysql://{user}:{password}@{host}/{db}'"
   ]
  },
  {
   "cell_type": "code",
   "execution_count": 550,
   "metadata": {},
   "outputs": [],
   "source": [
    "def get_curriculum_data(sql= '''SELECT * FROM logs;'''):\n",
    "    '''\n",
    "    Returns the curriculum anomalous dataset, checks local disk for anomalous_curriculum.csv, if present loads it, \n",
    "    otherwise it pulls the data from SQL and then saves it to local disk as 'anomalous_curriculum.csv'\n",
    "    (This is set up for Codeup's SQL server, with database title 'curriculum_logs'.)\n",
    "    '''\n",
    "    filename = \"anomalous_curriculum.csv\"\n",
    "    if os.path.isfile(filename):\n",
    "        return pd.read_csv(filename)\n",
    "    else:\n",
    "        df = pd.read_sql(sql, get_url('curriculum_logs'))\n",
    "        df.to_csv(filename)\n",
    "        return df "
   ]
  },
  {
   "cell_type": "code",
   "execution_count": 551,
   "metadata": {},
   "outputs": [],
   "source": [
    "df = get_curriculum_data()"
   ]
  },
  {
   "cell_type": "code",
   "execution_count": 552,
   "metadata": {},
   "outputs": [
    {
     "data": {
      "text/html": [
       "<div>\n",
       "<style scoped>\n",
       "    .dataframe tbody tr th:only-of-type {\n",
       "        vertical-align: middle;\n",
       "    }\n",
       "\n",
       "    .dataframe tbody tr th {\n",
       "        vertical-align: top;\n",
       "    }\n",
       "\n",
       "    .dataframe thead th {\n",
       "        text-align: right;\n",
       "    }\n",
       "</style>\n",
       "<table border=\"1\" class=\"dataframe\">\n",
       "  <thead>\n",
       "    <tr style=\"text-align: right;\">\n",
       "      <th></th>\n",
       "      <th>Unnamed: 0</th>\n",
       "      <th>date</th>\n",
       "      <th>time</th>\n",
       "      <th>path</th>\n",
       "      <th>user_id</th>\n",
       "      <th>cohort_id</th>\n",
       "      <th>ip</th>\n",
       "    </tr>\n",
       "  </thead>\n",
       "  <tbody>\n",
       "    <tr>\n",
       "      <th>0</th>\n",
       "      <td>0</td>\n",
       "      <td>2018-01-26</td>\n",
       "      <td>09:55:03</td>\n",
       "      <td>/</td>\n",
       "      <td>1</td>\n",
       "      <td>8.0</td>\n",
       "      <td>97.105.19.61</td>\n",
       "    </tr>\n",
       "    <tr>\n",
       "      <th>1</th>\n",
       "      <td>1</td>\n",
       "      <td>2018-01-26</td>\n",
       "      <td>09:56:02</td>\n",
       "      <td>java-ii</td>\n",
       "      <td>1</td>\n",
       "      <td>8.0</td>\n",
       "      <td>97.105.19.61</td>\n",
       "    </tr>\n",
       "    <tr>\n",
       "      <th>2</th>\n",
       "      <td>2</td>\n",
       "      <td>2018-01-26</td>\n",
       "      <td>09:56:05</td>\n",
       "      <td>java-ii/object-oriented-programming</td>\n",
       "      <td>1</td>\n",
       "      <td>8.0</td>\n",
       "      <td>97.105.19.61</td>\n",
       "    </tr>\n",
       "    <tr>\n",
       "      <th>3</th>\n",
       "      <td>3</td>\n",
       "      <td>2018-01-26</td>\n",
       "      <td>09:56:06</td>\n",
       "      <td>slides/object_oriented_programming</td>\n",
       "      <td>1</td>\n",
       "      <td>8.0</td>\n",
       "      <td>97.105.19.61</td>\n",
       "    </tr>\n",
       "    <tr>\n",
       "      <th>4</th>\n",
       "      <td>4</td>\n",
       "      <td>2018-01-26</td>\n",
       "      <td>09:56:24</td>\n",
       "      <td>javascript-i/conditionals</td>\n",
       "      <td>2</td>\n",
       "      <td>22.0</td>\n",
       "      <td>97.105.19.61</td>\n",
       "    </tr>\n",
       "  </tbody>\n",
       "</table>\n",
       "</div>"
      ],
      "text/plain": [
       "   Unnamed: 0        date      time                                 path  \\\n",
       "0           0  2018-01-26  09:55:03                                    /   \n",
       "1           1  2018-01-26  09:56:02                              java-ii   \n",
       "2           2  2018-01-26  09:56:05  java-ii/object-oriented-programming   \n",
       "3           3  2018-01-26  09:56:06   slides/object_oriented_programming   \n",
       "4           4  2018-01-26  09:56:24            javascript-i/conditionals   \n",
       "\n",
       "   user_id  cohort_id            ip  \n",
       "0        1        8.0  97.105.19.61  \n",
       "1        1        8.0  97.105.19.61  \n",
       "2        1        8.0  97.105.19.61  \n",
       "3        1        8.0  97.105.19.61  \n",
       "4        2       22.0  97.105.19.61  "
      ]
     },
     "execution_count": 552,
     "metadata": {},
     "output_type": "execute_result"
    }
   ],
   "source": [
    "df.head()"
   ]
  },
  {
   "cell_type": "code",
   "execution_count": 553,
   "metadata": {},
   "outputs": [
    {
     "name": "stdout",
     "output_type": "stream",
     "text": [
      "<class 'pandas.core.frame.DataFrame'>\n",
      "RangeIndex: 900223 entries, 0 to 900222\n",
      "Data columns (total 7 columns):\n",
      " #   Column      Non-Null Count   Dtype  \n",
      "---  ------      --------------   -----  \n",
      " 0   Unnamed: 0  900223 non-null  int64  \n",
      " 1   date        900223 non-null  object \n",
      " 2   time        900223 non-null  object \n",
      " 3   path        900222 non-null  object \n",
      " 4   user_id     900223 non-null  int64  \n",
      " 5   cohort_id   847330 non-null  float64\n",
      " 6   ip          900223 non-null  object \n",
      "dtypes: float64(1), int64(2), object(4)\n",
      "memory usage: 48.1+ MB\n"
     ]
    }
   ],
   "source": [
    "df.info()"
   ]
  },
  {
   "cell_type": "code",
   "execution_count": 554,
   "metadata": {},
   "outputs": [
    {
     "data": {
      "text/plain": [
       "array(['2018-01-26', '2018-01-28', '2018-01-29', '2018-01-30',\n",
       "       '2018-01-31', '2018-02-01', '2018-02-02', '2018-02-04',\n",
       "       '2018-02-05', '2018-02-06', '2018-02-07', '2018-02-08',\n",
       "       '2018-02-09', '2018-02-10', '2018-02-11', '2018-02-13',\n",
       "       '2018-02-15', '2018-02-16', '2018-02-17', '2018-02-19',\n",
       "       '2018-02-20', '2018-02-21', '2018-02-22', '2018-02-23',\n",
       "       '2018-02-25', '2018-02-26', '2018-02-27', '2018-02-28',\n",
       "       '2018-03-02', '2018-03-04', '2018-03-05', '2018-03-06',\n",
       "       '2018-03-07', '2018-03-08', '2018-03-09', '2018-03-10',\n",
       "       '2018-03-12', '2018-03-13', '2018-03-14', '2018-03-15',\n",
       "       '2018-03-16', '2018-03-17', '2018-03-18', '2018-03-19',\n",
       "       '2018-03-20', '2018-03-21', '2018-03-22', '2018-03-23',\n",
       "       '2018-03-24', '2018-03-25', '2018-03-26', '2018-03-27',\n",
       "       '2018-03-28', '2018-03-29', '2018-03-30', '2018-04-02',\n",
       "       '2018-04-03', '2018-04-04', '2018-04-05', '2018-04-06',\n",
       "       '2018-04-07', '2018-04-08', '2018-04-09', '2018-04-10',\n",
       "       '2018-04-11', '2018-04-12', '2018-04-13', '2018-04-14',\n",
       "       '2018-04-15', '2018-04-16', '2018-04-17', '2018-04-18',\n",
       "       '2018-04-19', '2018-04-20', '2018-04-21', '2018-04-22',\n",
       "       '2018-04-23', '2018-04-24', '2018-04-25', '2018-04-26',\n",
       "       '2018-04-27', '2018-04-29', '2018-04-30', '2018-05-01',\n",
       "       '2018-05-02', '2018-05-03', '2018-05-04', '2018-05-05',\n",
       "       '2018-05-06', '2018-05-07', '2018-05-08', '2018-05-09',\n",
       "       '2018-05-10', '2018-05-11', '2018-05-12', '2018-05-14',\n",
       "       '2018-05-15', '2018-05-16', '2018-05-17', '2018-05-18',\n",
       "       '2018-05-19', '2018-05-20', '2018-05-21', '2018-05-22',\n",
       "       '2018-05-23', '2018-05-24', '2018-05-28', '2018-05-29',\n",
       "       '2018-05-30', '2018-05-31', '2018-06-01', '2018-06-04',\n",
       "       '2018-06-05', '2018-06-06', '2018-06-07', '2018-06-08',\n",
       "       '2018-06-09', '2018-06-10', '2018-06-11', '2018-06-12',\n",
       "       '2018-06-13', '2018-06-14', '2018-06-15', '2018-06-16',\n",
       "       '2018-06-17', '2018-06-18', '2018-06-19', '2018-06-20',\n",
       "       '2018-06-21', '2018-06-22', '2018-06-23', '2018-06-24',\n",
       "       '2018-06-25', '2018-06-26', '2018-06-27', '2018-06-28',\n",
       "       '2018-06-29', '2018-07-02', '2018-07-03', '2018-07-05',\n",
       "       '2018-07-06', '2018-07-10', '2018-07-17', '2018-07-18',\n",
       "       '2018-07-19', '2018-07-22', '2018-07-23', '2018-07-24',\n",
       "       '2018-07-25', '2018-07-30', '2018-07-31', '2018-08-01',\n",
       "       '2018-08-02', '2018-08-05', '2018-08-07', '2018-08-08',\n",
       "       '2018-08-11', '2018-08-12', '2018-08-13', '2018-08-15',\n",
       "       '2018-08-22', '2018-08-23', '2018-08-24', '2018-08-26',\n",
       "       '2018-08-27', '2018-08-28', '2018-09-04', '2018-09-07',\n",
       "       '2018-09-17', '2018-09-18', '2018-09-19', '2018-09-21',\n",
       "       '2018-09-23', '2018-09-24', '2018-09-25', '2018-09-26',\n",
       "       '2018-09-27', '2018-10-03', '2018-10-04', '2018-10-05',\n",
       "       '2018-10-07', '2018-10-12', '2018-10-15', '2018-10-19',\n",
       "       '2018-10-20', '2018-10-23', '2018-10-24', '2018-10-31',\n",
       "       '2018-11-19', '2018-11-23', '2018-11-28', '2018-11-30',\n",
       "       '2018-12-05', '2018-12-18', '2018-12-19', '2018-12-21',\n",
       "       '2018-12-26', '2018-12-30', '2019-01-02', '2019-01-04',\n",
       "       '2019-01-06', '2019-01-08', '2019-01-17', '2019-01-22',\n",
       "       '2019-01-25', '2019-02-01', '2019-02-02', '2019-02-04',\n",
       "       '2019-02-05', '2019-02-06', '2019-02-07', '2019-02-08',\n",
       "       '2019-02-09', '2019-02-10', '2019-02-11', '2019-02-12',\n",
       "       '2019-02-13', '2019-02-14', '2019-02-15', '2019-02-16',\n",
       "       '2019-02-17', '2019-02-18', '2019-02-19', '2019-02-20',\n",
       "       '2019-02-21', '2019-02-22', '2019-02-23', '2019-02-24',\n",
       "       '2019-02-25', '2019-02-26', '2019-02-27', '2019-02-28',\n",
       "       '2019-03-01', '2019-03-02', '2019-03-03', '2019-03-04',\n",
       "       '2019-03-05', '2019-03-06', '2019-03-07', '2019-03-08',\n",
       "       '2019-03-09', '2019-03-10', '2019-03-11', '2019-03-12',\n",
       "       '2019-03-13', '2019-03-14', '2019-03-15', '2019-03-16',\n",
       "       '2019-03-17', '2019-03-18', '2019-03-19', '2019-03-20',\n",
       "       '2019-03-21', '2019-03-22', '2019-03-23', '2019-03-24',\n",
       "       '2019-03-25', '2019-03-26', '2019-03-27', '2019-03-28',\n",
       "       '2019-03-29', '2019-03-30', '2019-03-31', '2019-04-01',\n",
       "       '2019-04-02', '2019-04-03', '2019-04-04', '2019-04-05',\n",
       "       '2019-04-06', '2019-04-07', '2019-04-08', '2019-04-09',\n",
       "       '2019-04-10', '2019-04-11', '2019-04-12', '2019-04-13',\n",
       "       '2019-04-14', '2019-04-15', '2019-04-16', '2019-04-17',\n",
       "       '2019-04-18', '2019-04-19', '2019-04-20', '2019-04-21',\n",
       "       '2019-04-22', '2019-04-23', '2019-04-24', '2019-04-25',\n",
       "       '2019-04-26', '2019-04-27', '2019-04-28', '2019-04-29',\n",
       "       '2019-04-30', '2019-05-01', '2019-05-02', '2019-05-03',\n",
       "       '2019-05-04', '2019-05-05', '2019-05-06', '2019-05-07',\n",
       "       '2019-05-08', '2019-05-09', '2019-05-10', '2019-05-11',\n",
       "       '2019-05-12', '2019-05-13', '2019-05-14', '2019-05-15',\n",
       "       '2019-05-16', '2019-05-17', '2019-05-18', '2019-05-19',\n",
       "       '2019-05-20', '2019-05-21', '2019-05-22', '2019-05-23',\n",
       "       '2019-05-24', '2019-05-25', '2019-05-26', '2019-05-27',\n",
       "       '2019-05-28', '2019-05-29', '2019-05-30', '2019-05-31',\n",
       "       '2019-06-01', '2019-06-02', '2019-06-03', '2019-06-04',\n",
       "       '2019-06-05', '2019-06-06', '2019-06-07', '2019-06-08',\n",
       "       '2019-06-09', '2019-06-10', '2019-06-11', '2019-06-12',\n",
       "       '2019-06-13', '2019-06-14', '2019-06-15', '2019-06-16',\n",
       "       '2019-06-17', '2019-06-18', '2019-06-19', '2019-06-20',\n",
       "       '2019-06-21', '2019-06-22', '2019-06-23', '2019-06-24',\n",
       "       '2019-06-25', '2019-06-26', '2019-06-27', '2019-06-28',\n",
       "       '2019-06-29', '2019-06-30', '2019-07-01', '2019-07-02',\n",
       "       '2019-07-03', '2019-07-04', '2019-07-05', '2019-07-06',\n",
       "       '2019-07-07', '2019-07-08', '2019-07-09', '2019-07-10',\n",
       "       '2019-07-11', '2019-07-12', '2019-07-13', '2019-07-14',\n",
       "       '2019-07-15', '2019-07-16', '2019-07-17', '2019-07-18',\n",
       "       '2019-07-19', '2019-07-20', '2019-07-21', '2019-07-22',\n",
       "       '2019-07-23', '2019-07-24', '2019-07-25', '2019-07-26',\n",
       "       '2019-07-27', '2019-07-28', '2019-07-29', '2019-07-30',\n",
       "       '2019-07-31', '2019-08-01', '2019-08-02', '2019-08-03',\n",
       "       '2019-08-04', '2019-08-05', '2019-08-06', '2019-08-07',\n",
       "       '2019-08-08', '2019-08-09', '2019-08-10', '2019-08-11',\n",
       "       '2019-08-12', '2019-08-13', '2019-08-14', '2019-08-15',\n",
       "       '2019-08-16', '2019-08-17', '2019-08-18', '2019-08-19',\n",
       "       '2019-08-20', '2019-08-21', '2019-08-22', '2019-08-23',\n",
       "       '2019-08-24', '2019-08-25', '2019-08-26', '2019-08-27',\n",
       "       '2019-08-28', '2019-08-29', '2019-08-30', '2019-09-01',\n",
       "       '2019-09-02', '2019-09-03', '2019-09-04', '2019-09-05',\n",
       "       '2019-09-06', '2019-09-07', '2019-09-08', '2019-09-09',\n",
       "       '2019-09-10', '2019-09-11', '2019-09-12', '2019-09-13',\n",
       "       '2019-09-14', '2019-09-15', '2019-09-16', '2019-09-17',\n",
       "       '2019-09-18', '2019-09-19', '2019-09-20', '2019-09-21',\n",
       "       '2019-09-22', '2019-09-23', '2019-09-24', '2019-09-25',\n",
       "       '2019-09-26', '2019-09-27', '2019-09-28', '2019-09-29',\n",
       "       '2019-09-30', '2019-10-01', '2019-10-02', '2019-10-03',\n",
       "       '2019-10-04', '2019-10-05', '2019-10-06', '2019-10-07',\n",
       "       '2019-10-08', '2019-10-09', '2019-10-10', '2019-10-11',\n",
       "       '2019-10-12', '2019-10-13', '2019-10-14', '2019-10-15',\n",
       "       '2019-10-16', '2019-10-17', '2019-10-18', '2019-10-19',\n",
       "       '2019-10-20', '2019-10-21', '2019-10-22', '2019-10-23',\n",
       "       '2019-10-24', '2019-10-25', '2019-10-26', '2019-10-28',\n",
       "       '2019-10-29', '2019-10-30', '2019-10-31', '2019-11-01',\n",
       "       '2019-11-02', '2019-11-03', '2019-11-04', '2019-11-05',\n",
       "       '2019-11-06', '2019-11-07', '2019-11-08', '2019-11-09',\n",
       "       '2019-11-10', '2019-11-11', '2019-11-12', '2019-11-13',\n",
       "       '2019-11-14', '2019-11-15', '2019-11-16', '2019-11-18',\n",
       "       '2019-11-19', '2019-11-20', '2019-11-21', '2019-11-22',\n",
       "       '2019-11-23', '2019-11-24', '2019-11-25', '2019-11-26',\n",
       "       '2019-11-27', '2019-11-30', '2019-12-01', '2019-12-02',\n",
       "       '2019-12-03', '2019-12-04', '2019-12-05', '2019-12-06',\n",
       "       '2019-12-07', '2019-12-08', '2019-12-09', '2019-12-10',\n",
       "       '2019-12-12', '2019-12-13', '2019-12-14', '2019-12-15',\n",
       "       '2019-12-16', '2019-12-17', '2019-12-18', '2019-12-19',\n",
       "       '2019-12-20', '2019-12-21', '2019-12-23', '2019-12-24',\n",
       "       '2019-12-27', '2019-12-28', '2019-12-29', '2019-12-30',\n",
       "       '2020-01-01', '2020-01-02', '2020-01-03', '2020-01-04',\n",
       "       '2020-01-05', '2020-01-06', '2020-01-07', '2020-01-08',\n",
       "       '2020-01-09', '2020-01-10', '2020-01-12', '2020-01-13',\n",
       "       '2020-01-14', '2020-01-16', '2020-01-17', '2020-01-18',\n",
       "       '2020-01-19', '2020-01-20', '2020-01-21', '2020-01-22',\n",
       "       '2020-01-23', '2020-01-24', '2020-01-25', '2020-01-26',\n",
       "       '2020-01-27', '2020-01-28', '2020-01-29', '2020-01-30',\n",
       "       '2020-01-31', '2020-02-01', '2020-02-02', '2020-02-03',\n",
       "       '2020-02-04', '2020-02-05', '2020-02-06', '2020-02-07',\n",
       "       '2020-02-08', '2020-02-09', '2020-02-10', '2020-02-11',\n",
       "       '2020-02-12', '2020-02-13', '2020-02-14', '2020-02-15',\n",
       "       '2020-02-17', '2020-02-18', '2020-02-19', '2020-02-20',\n",
       "       '2020-02-22', '2020-02-23', '2020-02-24', '2020-02-25',\n",
       "       '2020-02-26', '2020-02-27', '2020-02-28', '2020-02-29',\n",
       "       '2020-03-01', '2020-03-02', '2020-03-03', '2020-03-04',\n",
       "       '2020-03-05', '2020-03-06', '2020-03-07', '2020-03-08',\n",
       "       '2020-03-09', '2020-03-10', '2020-03-11', '2020-03-12',\n",
       "       '2020-03-13', '2020-03-14', '2020-03-15', '2020-03-16',\n",
       "       '2020-03-17', '2020-03-19', '2020-03-20', '2020-03-21',\n",
       "       '2020-03-23', '2020-03-24', '2020-03-28', '2020-03-29',\n",
       "       '2020-03-30', '2020-03-31', '2020-04-01', '2020-04-02',\n",
       "       '2020-04-03', '2020-04-04', '2020-04-06', '2020-04-08',\n",
       "       '2020-04-09', '2020-04-10', '2020-04-11', '2020-04-12',\n",
       "       '2020-04-13', '2020-04-14', '2020-04-15', '2020-04-17',\n",
       "       '2020-04-18', '2020-04-19', '2020-04-20', '2020-04-22',\n",
       "       '2020-04-23', '2020-04-24', '2020-04-26', '2020-04-27',\n",
       "       '2020-04-28', '2020-04-29', '2020-04-30', '2020-05-01',\n",
       "       '2020-05-03', '2020-05-04', '2020-05-07', '2020-05-08',\n",
       "       '2020-05-09', '2020-05-10', '2020-05-12', '2020-05-13',\n",
       "       '2020-05-14', '2020-05-15', '2020-05-16', '2020-05-17',\n",
       "       '2020-05-18', '2020-05-19', '2020-05-20', '2020-05-21',\n",
       "       '2020-05-23', '2020-05-24', '2020-05-25', '2020-05-26',\n",
       "       '2020-05-27', '2020-05-28', '2020-05-29', '2020-05-30',\n",
       "       '2020-05-31', '2020-06-01', '2020-06-02', '2020-06-03',\n",
       "       '2020-06-04', '2020-06-05', '2020-06-06', '2020-06-07',\n",
       "       '2020-06-08', '2020-06-09', '2020-06-10', '2020-06-11',\n",
       "       '2020-06-14', '2020-06-16', '2020-06-17', '2020-06-19',\n",
       "       '2020-06-20', '2020-06-21', '2020-06-22', '2020-06-23',\n",
       "       '2020-06-24', '2020-06-25', '2020-06-26', '2020-06-27',\n",
       "       '2020-06-28', '2020-06-30', '2020-07-01', '2020-07-02',\n",
       "       '2020-07-03', '2020-07-05', '2020-07-06', '2020-07-07',\n",
       "       '2020-07-08', '2020-07-09', '2020-07-10', '2020-07-11',\n",
       "       '2020-07-13', '2020-07-14', '2020-07-15', '2020-07-16',\n",
       "       '2020-07-17', '2020-07-18', '2020-07-19', '2020-07-20',\n",
       "       '2020-07-21', '2020-07-22', '2020-07-23', '2020-07-24',\n",
       "       '2020-07-25', '2020-07-26', '2020-07-27', '2020-07-28',\n",
       "       '2020-07-29', '2020-07-30', '2020-07-31', '2020-08-01',\n",
       "       '2020-08-02', '2020-08-03', '2020-08-04', '2020-08-05',\n",
       "       '2020-08-06', '2020-08-07', '2020-08-08', '2020-08-09',\n",
       "       '2020-08-10', '2020-08-11', '2020-08-12', '2020-08-13',\n",
       "       '2020-08-14', '2020-08-15', '2020-08-16', '2020-08-17',\n",
       "       '2020-08-18', '2020-08-19', '2020-08-20', '2020-08-21',\n",
       "       '2020-08-22', '2020-08-23', '2020-08-24', '2020-08-25',\n",
       "       '2020-08-26', '2020-08-27', '2020-08-28', '2020-08-29',\n",
       "       '2020-08-30', '2020-08-31', '2020-09-01', '2020-09-02',\n",
       "       '2020-09-03', '2020-09-04', '2020-09-05', '2020-09-06',\n",
       "       '2020-09-07', '2020-09-08', '2020-09-09', '2020-09-10',\n",
       "       '2020-09-11', '2020-09-12', '2020-09-13', '2020-09-14',\n",
       "       '2020-09-15', '2020-09-16', '2020-09-17', '2020-09-18',\n",
       "       '2020-09-19', '2020-09-20', '2020-09-21', '2020-09-22',\n",
       "       '2020-09-23', '2020-09-24', '2020-09-25', '2020-09-26',\n",
       "       '2020-09-27', '2020-09-28', '2020-09-29', '2020-09-30',\n",
       "       '2020-10-01', '2020-10-02', '2020-10-03', '2020-10-04',\n",
       "       '2020-10-05', '2020-10-06', '2020-10-07', '2020-10-08',\n",
       "       '2020-10-09', '2020-10-10', '2020-10-11', '2020-10-12',\n",
       "       '2020-10-13', '2020-10-14', '2020-10-15', '2020-10-16',\n",
       "       '2020-10-17', '2020-10-18', '2020-10-19', '2020-10-20',\n",
       "       '2020-10-21', '2020-10-22', '2020-10-23', '2020-10-24',\n",
       "       '2020-10-25', '2020-10-26', '2020-10-27', '2020-10-28',\n",
       "       '2020-10-29', '2020-10-30', '2020-10-31', '2020-11-01',\n",
       "       '2020-11-02', '2020-11-03', '2020-11-04', '2020-11-05',\n",
       "       '2020-11-06', '2020-11-07', '2020-11-08', '2020-11-09',\n",
       "       '2020-11-10', '2020-11-11', '2020-11-12', '2020-11-13',\n",
       "       '2020-11-14', '2020-11-15', '2020-11-16', '2020-11-17',\n",
       "       '2020-11-18', '2020-11-19', '2020-11-20', '2020-11-21',\n",
       "       '2020-11-22', '2020-11-23', '2020-11-24', '2020-11-25',\n",
       "       '2020-11-26', '2020-11-27', '2020-11-28', '2020-11-29',\n",
       "       '2020-11-30', '2020-12-01', '2020-12-02', '2020-12-03',\n",
       "       '2020-12-04', '2020-12-05', '2020-12-06', '2020-12-07',\n",
       "       '2020-12-08', '2020-12-09', '2020-12-10', '2020-12-11',\n",
       "       '2020-12-12', '2020-12-13', '2020-12-14', '2020-12-15',\n",
       "       '2020-12-16', '2020-12-17', '2020-12-18', '2020-12-19',\n",
       "       '2020-12-20', '2020-12-21', '2020-12-22', '2020-12-23',\n",
       "       '2020-12-24', '2020-12-25', '2020-12-26', '2020-12-27',\n",
       "       '2020-12-28', '2020-12-29', '2020-12-30', '2020-12-31',\n",
       "       '2021-01-01', '2021-01-02', '2021-01-03', '2021-01-04',\n",
       "       '2021-01-05', '2021-01-06', '2021-01-07', '2021-01-08',\n",
       "       '2021-01-09', '2021-01-10', '2021-01-11', '2021-01-12',\n",
       "       '2021-01-13', '2021-01-14', '2021-01-15', '2021-01-17',\n",
       "       '2021-01-18', '2021-01-19', '2021-01-20', '2021-01-21',\n",
       "       '2021-01-22', '2021-01-23', '2021-01-24', '2021-01-25',\n",
       "       '2021-01-26', '2021-01-27', '2021-01-28', '2021-01-29',\n",
       "       '2021-01-30', '2021-01-31', '2021-02-01', '2021-02-02',\n",
       "       '2021-02-03', '2021-02-04', '2021-02-05', '2021-02-06',\n",
       "       '2021-02-07', '2021-02-08', '2021-02-09', '2021-02-10',\n",
       "       '2021-02-11', '2021-02-12', '2021-02-13', '2021-02-14',\n",
       "       '2021-02-15', '2021-02-17', '2021-02-18', '2021-02-19',\n",
       "       '2021-02-20', '2021-02-21', '2021-02-22', '2021-02-23',\n",
       "       '2021-02-24', '2021-02-25', '2021-02-26', '2021-02-27',\n",
       "       '2021-02-28', '2021-03-01', '2021-03-02', '2021-03-03',\n",
       "       '2021-03-04', '2021-03-05', '2021-03-07', '2021-03-08',\n",
       "       '2021-03-09', '2021-03-10', '2021-03-11', '2021-03-12',\n",
       "       '2021-03-14', '2021-03-15', '2021-03-16', '2021-03-17',\n",
       "       '2021-03-19', '2021-03-21', '2021-03-22', '2021-03-23',\n",
       "       '2021-03-25', '2021-03-26', '2021-03-28', '2021-03-30',\n",
       "       '2021-03-31', '2021-04-02', '2021-04-03', '2021-04-05',\n",
       "       '2021-04-06', '2021-04-07', '2021-04-08', '2021-04-09',\n",
       "       '2021-04-12', '2021-04-13', '2021-04-15', '2021-04-16',\n",
       "       '2021-04-17', '2021-04-18', '2021-04-20', '2021-04-21'],\n",
       "      dtype=object)"
      ]
     },
     "execution_count": 554,
     "metadata": {},
     "output_type": "execute_result"
    }
   ],
   "source": [
    "df[df.cohort_id.isnull()].date.unique()"
   ]
  },
  {
   "cell_type": "code",
   "execution_count": 555,
   "metadata": {},
   "outputs": [
    {
     "data": {
      "text/html": [
       "<div>\n",
       "<style scoped>\n",
       "    .dataframe tbody tr th:only-of-type {\n",
       "        vertical-align: middle;\n",
       "    }\n",
       "\n",
       "    .dataframe tbody tr th {\n",
       "        vertical-align: top;\n",
       "    }\n",
       "\n",
       "    .dataframe thead th {\n",
       "        text-align: right;\n",
       "    }\n",
       "</style>\n",
       "<table border=\"1\" class=\"dataframe\">\n",
       "  <thead>\n",
       "    <tr style=\"text-align: right;\">\n",
       "      <th></th>\n",
       "      <th>path</th>\n",
       "      <th>user_id</th>\n",
       "      <th>cohort_id</th>\n",
       "      <th>ip</th>\n",
       "    </tr>\n",
       "    <tr>\n",
       "      <th>date_time</th>\n",
       "      <th></th>\n",
       "      <th></th>\n",
       "      <th></th>\n",
       "      <th></th>\n",
       "    </tr>\n",
       "  </thead>\n",
       "  <tbody>\n",
       "    <tr>\n",
       "      <th>2018-01-26 09:55:03</th>\n",
       "      <td>/</td>\n",
       "      <td>1</td>\n",
       "      <td>8.0</td>\n",
       "      <td>97.105.19.61</td>\n",
       "    </tr>\n",
       "    <tr>\n",
       "      <th>2018-01-26 09:56:02</th>\n",
       "      <td>java-ii</td>\n",
       "      <td>1</td>\n",
       "      <td>8.0</td>\n",
       "      <td>97.105.19.61</td>\n",
       "    </tr>\n",
       "    <tr>\n",
       "      <th>2018-01-26 09:56:05</th>\n",
       "      <td>java-ii/object-oriented-programming</td>\n",
       "      <td>1</td>\n",
       "      <td>8.0</td>\n",
       "      <td>97.105.19.61</td>\n",
       "    </tr>\n",
       "    <tr>\n",
       "      <th>2018-01-26 09:56:06</th>\n",
       "      <td>slides/object_oriented_programming</td>\n",
       "      <td>1</td>\n",
       "      <td>8.0</td>\n",
       "      <td>97.105.19.61</td>\n",
       "    </tr>\n",
       "    <tr>\n",
       "      <th>2018-01-26 09:56:24</th>\n",
       "      <td>javascript-i/conditionals</td>\n",
       "      <td>2</td>\n",
       "      <td>22.0</td>\n",
       "      <td>97.105.19.61</td>\n",
       "    </tr>\n",
       "  </tbody>\n",
       "</table>\n",
       "</div>"
      ],
      "text/plain": [
       "                                                    path  user_id  cohort_id  \\\n",
       "date_time                                                                      \n",
       "2018-01-26 09:55:03                                    /        1        8.0   \n",
       "2018-01-26 09:56:02                              java-ii        1        8.0   \n",
       "2018-01-26 09:56:05  java-ii/object-oriented-programming        1        8.0   \n",
       "2018-01-26 09:56:06   slides/object_oriented_programming        1        8.0   \n",
       "2018-01-26 09:56:24            javascript-i/conditionals        2       22.0   \n",
       "\n",
       "                               ip  \n",
       "date_time                          \n",
       "2018-01-26 09:55:03  97.105.19.61  \n",
       "2018-01-26 09:56:02  97.105.19.61  \n",
       "2018-01-26 09:56:05  97.105.19.61  \n",
       "2018-01-26 09:56:06  97.105.19.61  \n",
       "2018-01-26 09:56:24  97.105.19.61  "
      ]
     },
     "execution_count": 555,
     "metadata": {},
     "output_type": "execute_result"
    }
   ],
   "source": [
    "df['date_time'] = df.date + \" \" + df.time\n",
    "df['date_time'] = pd.to_datetime(df.date_time)\n",
    "del df['date']\n",
    "del df['time']\n",
    "del df['Unnamed: 0']\n",
    "df = df.set_index(df.date_time)\n",
    "df = df.drop(columns=\"date_time\")\n",
    "df.head()"
   ]
  },
  {
   "cell_type": "code",
   "execution_count": 556,
   "metadata": {},
   "outputs": [],
   "source": [
    "df.cohort_id = df.cohort_id.fillna(0)"
   ]
  },
  {
   "cell_type": "code",
   "execution_count": 557,
   "metadata": {},
   "outputs": [
    {
     "data": {
      "text/plain": [
       "array([ 48,  54,  58,  59,  61,  62,  63,  73,  74,  78,  79,  86,  88,\n",
       "        89, 100, 103, 111, 137, 166, 176, 213, 247, 317, 349, 350, 351,\n",
       "       352, 353, 354, 355, 356, 357, 358, 359, 360, 361, 362, 363, 364,\n",
       "       365, 366, 367, 368, 369, 372, 375, 403, 406, 429, 544,  64, 713,\n",
       "       714, 715, 716, 717, 718, 663, 719, 720, 721, 722, 723, 724, 725,\n",
       "       726, 727, 728, 729, 346, 731, 736, 644, 744, 782, 810, 814, 815])"
      ]
     },
     "execution_count": 557,
     "metadata": {},
     "output_type": "execute_result"
    }
   ],
   "source": [
    "df[df.cohort_id == 0].user_id.unique()"
   ]
  },
  {
   "cell_type": "code",
   "execution_count": 558,
   "metadata": {},
   "outputs": [],
   "source": [
    "def unique(list1):\n",
    "  \n",
    "    # initialize a null list\n",
    "    unique_list = []\n",
    "  \n",
    "    # traverse for all elements\n",
    "    for x in list1:\n",
    "        # check if exists in unique_list or not\n",
    "        if x not in unique_list:\n",
    "            unique_list.append(x)\n",
    "    # print list\n",
    "    for x in unique_list:\n",
    "        print(x)"
   ]
  },
  {
   "cell_type": "markdown",
   "metadata": {},
   "source": [
    "-------\n",
    "\n",
    "#### Charts:\n"
   ]
  },
  {
   "cell_type": "code",
   "execution_count": 581,
   "metadata": {},
   "outputs": [
    {
     "data": {
      "text/plain": [
       "array([[<AxesSubplot:title={'center':'cohort_id'}>,\n",
       "        <AxesSubplot:title={'center':'date_time'}>],\n",
       "       [<AxesSubplot:title={'center':'path'}>,\n",
       "        <AxesSubplot:title={'center':'user_id'}>],\n",
       "       [<AxesSubplot:title={'center':'cohort'}>,\n",
       "        <AxesSubplot:title={'center':'ip'}>]], dtype=object)"
      ]
     },
     "execution_count": 581,
     "metadata": {},
     "output_type": "execute_result"
    },
    {
     "data": {
      "image/png": "[encoded data removed]",
      "text/plain": [
       "<Figure size 640x480 with 6 Axes>"
      ]
     },
     "metadata": {},
     "output_type": "display_data"
    }
   ],
   "source": [
    "unique_java1.hist()"
   ]
  },
  {
   "cell_type": "markdown",
   "metadata": {},
   "source": [
    "----"
   ]
  },
  {
   "cell_type": "markdown",
   "metadata": {},
   "source": [
    "1. Which lesson appears to attract the most traffic consistently across cohorts (per program)?\n"
   ]
  },
  {
   "cell_type": "code",
   "execution_count": 559,
   "metadata": {},
   "outputs": [],
   "source": [
    "unique_java1 = df[df.path == \"javascript-i\"].groupby(\"cohort_id\").resample(\"M\").nunique()"
   ]
  },
  {
   "cell_type": "code",
   "execution_count": 560,
   "metadata": {},
   "outputs": [
    {
     "data": {
      "text/html": [
       "<div>\n",
       "<style scoped>\n",
       "    .dataframe tbody tr th:only-of-type {\n",
       "        vertical-align: middle;\n",
       "    }\n",
       "\n",
       "    .dataframe tbody tr th {\n",
       "        vertical-align: top;\n",
       "    }\n",
       "\n",
       "    .dataframe thead th {\n",
       "        text-align: right;\n",
       "    }\n",
       "</style>\n",
       "<table border=\"1\" class=\"dataframe\">\n",
       "  <thead>\n",
       "    <tr style=\"text-align: right;\">\n",
       "      <th></th>\n",
       "      <th></th>\n",
       "      <th>path</th>\n",
       "      <th>user_id</th>\n",
       "      <th>cohort_id</th>\n",
       "      <th>ip</th>\n",
       "    </tr>\n",
       "    <tr>\n",
       "      <th>cohort_id</th>\n",
       "      <th>date_time</th>\n",
       "      <th></th>\n",
       "      <th></th>\n",
       "      <th></th>\n",
       "      <th></th>\n",
       "    </tr>\n",
       "  </thead>\n",
       "  <tbody>\n",
       "    <tr>\n",
       "      <th rowspan=\"5\" valign=\"top\">0.0</th>\n",
       "      <th>2018-01-31</th>\n",
       "      <td>1</td>\n",
       "      <td>2</td>\n",
       "      <td>1</td>\n",
       "      <td>2</td>\n",
       "    </tr>\n",
       "    <tr>\n",
       "      <th>2018-02-28</th>\n",
       "      <td>1</td>\n",
       "      <td>5</td>\n",
       "      <td>1</td>\n",
       "      <td>5</td>\n",
       "    </tr>\n",
       "    <tr>\n",
       "      <th>2018-03-31</th>\n",
       "      <td>1</td>\n",
       "      <td>4</td>\n",
       "      <td>1</td>\n",
       "      <td>4</td>\n",
       "    </tr>\n",
       "    <tr>\n",
       "      <th>2018-04-30</th>\n",
       "      <td>1</td>\n",
       "      <td>4</td>\n",
       "      <td>1</td>\n",
       "      <td>7</td>\n",
       "    </tr>\n",
       "    <tr>\n",
       "      <th>2018-05-31</th>\n",
       "      <td>1</td>\n",
       "      <td>3</td>\n",
       "      <td>1</td>\n",
       "      <td>3</td>\n",
       "    </tr>\n",
       "  </tbody>\n",
       "</table>\n",
       "</div>"
      ],
      "text/plain": [
       "                      path  user_id  cohort_id  ip\n",
       "cohort_id date_time                               \n",
       "0.0       2018-01-31     1        2          1   2\n",
       "          2018-02-28     1        5          1   5\n",
       "          2018-03-31     1        4          1   4\n",
       "          2018-04-30     1        4          1   7\n",
       "          2018-05-31     1        3          1   3"
      ]
     },
     "execution_count": 560,
     "metadata": {},
     "output_type": "execute_result"
    }
   ],
   "source": [
    "unique_java1.head()"
   ]
  },
  {
   "cell_type": "code",
   "execution_count": 561,
   "metadata": {},
   "outputs": [],
   "source": [
    "unique_java1 = unique_java1.rename(columns={\"cohort_id\":\"cohort\"})"
   ]
  },
  {
   "cell_type": "code",
   "execution_count": 564,
   "metadata": {},
   "outputs": [],
   "source": [
    "unique_java1 = unique_java1.reset_index()"
   ]
  },
  {
   "cell_type": "markdown",
   "metadata": {},
   "source": [
    "I have the Monthly Sum of Traffic so I can compare and examine."
   ]
  },
  {
   "cell_type": "code",
   "execution_count": 569,
   "metadata": {},
   "outputs": [],
   "source": [
    "unique_java1['cohort_id'] = unique_java1.cohort_id.astype(int)"
   ]
  },
  {
   "cell_type": "code",
   "execution_count": 571,
   "metadata": {},
   "outputs": [
    {
     "data": {
      "text/plain": [
       "array([  0,   1,   2,   6,   7,   8,  11,  12,  13,  14,  15,  16,  17,\n",
       "        18,  19,  21,  22,  23,  24,  25,  26,  27,  28,  29,  31,  32,\n",
       "        33,  34,  51,  52,  53,  56,  57,  58,  61,  62, 132, 134, 135,\n",
       "       138, 139])"
      ]
     },
     "execution_count": 571,
     "metadata": {},
     "output_type": "execute_result"
    }
   ],
   "source": [
    "unique_java1.cohort_id.unique()"
   ]
  },
  {
   "cell_type": "code",
   "execution_count": 582,
   "metadata": {},
   "outputs": [
    {
     "name": "stdout",
     "output_type": "stream",
     "text": [
      "<class 'pandas.core.frame.DataFrame'>\n",
      "RangeIndex: 706 entries, 0 to 705\n",
      "Data columns (total 6 columns):\n",
      " #   Column     Non-Null Count  Dtype         \n",
      "---  ------     --------------  -----         \n",
      " 0   cohort_id  706 non-null    int64         \n",
      " 1   date_time  706 non-null    datetime64[ns]\n",
      " 2   path       706 non-null    int64         \n",
      " 3   user_id    706 non-null    int64         \n",
      " 4   cohort     706 non-null    int64         \n",
      " 5   ip         706 non-null    int64         \n",
      "dtypes: datetime64[ns](1), int64(5)\n",
      "memory usage: 33.2 KB\n"
     ]
    }
   ],
   "source": [
    "unique_java1.info()"
   ]
  },
  {
   "cell_type": "markdown",
   "metadata": {},
   "source": [
    "\n",
    "2. Is there a cohort that referred to a lesson significantly more than other cohorts seemed to gloss over?\n"
   ]
  },
  {
   "cell_type": "code",
   "execution_count": null,
   "metadata": {},
   "outputs": [],
   "source": []
  },
  {
   "cell_type": "markdown",
   "metadata": {},
   "source": [
    "3. Are there students who, when active, hardly access the curriculum? If so, what information do you have about these students?\n"
   ]
  },
  {
   "cell_type": "code",
   "execution_count": null,
   "metadata": {},
   "outputs": [],
   "source": []
  },
  {
   "cell_type": "markdown",
   "metadata": {},
   "source": [
    "4. Is there any suspicious activity, such as users/machines/etc accessing the curriculum who shouldn’t be? Does it appear that any web-scraping is happening? Are there any suspicious IP addresses?\n"
   ]
  },
  {
   "cell_type": "code",
   "execution_count": null,
   "metadata": {},
   "outputs": [],
   "source": []
  },
  {
   "cell_type": "markdown",
   "metadata": {},
   "source": [
    "5. At some point in 2019, the ability for students and alumni to access both curriculums (web dev to ds, ds to web dev) should have been shut off. Do you see any evidence of that happening? Did it happen before?\n"
   ]
  },
  {
   "cell_type": "code",
   "execution_count": null,
   "metadata": {},
   "outputs": [],
   "source": []
  },
  {
   "cell_type": "markdown",
   "metadata": {},
   "source": [
    "6. What topics are grads continuing to reference after graduation and into their jobs (for each program)?\n"
   ]
  },
  {
   "cell_type": "code",
   "execution_count": null,
   "metadata": {},
   "outputs": [],
   "source": []
  },
  {
   "cell_type": "markdown",
   "metadata": {},
   "source": [
    "7. Which lessons are least accessed? \n"
   ]
  },
  {
   "cell_type": "code",
   "execution_count": null,
   "metadata": {},
   "outputs": [],
   "source": []
  },
  {
   "cell_type": "markdown",
   "metadata": {},
   "source": [
    "8. Anything else I should be aware of?"
   ]
  },
  {
   "cell_type": "code",
   "execution_count": null,
   "metadata": {},
   "outputs": [],
   "source": []
  }
 ],
 "metadata": {
  "kernelspec": {
   "display_name": "Python 3.9.12 ('base')",
   "language": "python",
   "name": "python3"
  },
  "language_info": {
   "codemirror_mode": {
    "name": "ipython",
    "version": 3
   },
   "file_extension": ".py",
   "mimetype": "text/x-python",
   "name": "python",
   "nbconvert_exporter": "python",
   "pygments_lexer": "ipython3",
   "version": "3.9.12"
  },
  "orig_nbformat": 4,
  "vscode": {
   "interpreter": {
    "hash": "3067ead486e059ec00ffe7555bdb889e6e264a24dc711bf108106cc7baee8d5d"
   }
  }
 },
 "nbformat": 4,
 "nbformat_minor": 2
}
